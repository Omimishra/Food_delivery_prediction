{
 "cells": [
  {
   "cell_type": "code",
   "execution_count": null,
   "id": "ef13c842",
   "metadata": {},
   "outputs": [],
   "source": [
    "import pandas as pd\n",
    "import json"
   ]
  },
  {
   "cell_type": "code",
   "execution_count": null,
   "id": "ad113a7b",
   "metadata": {},
   "outputs": [],
   "source": [
    "with open(\"India-Food-Delivery-Time-Prediction.txt\", \"r\") as file:\n",
    "    raw_text = file.read()\n",
    "\n",
    "# Parse the text as JSON\n",
    "data = json.loads(raw_text)\n",
    "\n",
    "# Convert to DataFrame\n",
    "df = pd.DataFrame(data)"
   ]
  },
  {
   "cell_type": "code",
   "execution_count": null,
   "id": "2893d52f",
   "metadata": {},
   "outputs": [],
   "source": [
    "\n",
    "df.to_csv(\"food_delivery_data.csv\", index=False)\n",
    "df"
   ]
  },
  {
   "cell_type": "code",
   "execution_count": null,
   "id": "c86ed37e",
   "metadata": {},
   "outputs": [],
   "source": [
    "df.isnull().sum()"
   ]
  },
  {
   "cell_type": "markdown",
   "id": "ab365637",
   "metadata": {},
   "source": [
    "#### Since you can see the time_ordered column has many null values we cannot drop all the rows as it may affect the accuracy of the model so we should fill it strategically.\n",
    "We’re using Time_Order_picked and an estimated median preparation time to impute/fill these missing values."
   ]
  },
  {
   "cell_type": "code",
   "execution_count": null,
   "id": "431cfce0",
   "metadata": {},
   "outputs": [],
   "source": [
    "# Time columns are currently stored as strings. To perform time calculations (like differences), we convert them to proper datetime objects.\n",
    "# errors='coerce' means: If a value can’t be converted (e.g., blank or malformed), it becomes NaT (Not a Time = missing datetime).\n",
    "df['Time_Order_picked'] = pd.to_datetime(df['Time_Order_picked'], format='%H:%M:%S', errors='coerce')\n",
    "df['Time_Orderd'] = pd.to_datetime(df['Time_Orderd'], format='%H:%M:%S', errors='coerce')"
   ]
  },
  {
   "cell_type": "code",
   "execution_count": null,
   "id": "a347e977",
   "metadata": {},
   "outputs": [],
   "source": [
    "# .dt.total_seconds() converts the timedelta to seconds, and we divide by 60 to get minutes.\n",
    "prep_time = (df['Time_Order_picked'] - df['Time_Orderd']).dt.total_seconds() / 60\n",
    "# We take the median (middle value) of all calculated prep times\n",
    "median_prep_time = prep_time.median()"
   ]
  },
  {
   "cell_type": "code",
   "execution_count": null,
   "id": "985f3930",
   "metadata": {},
   "outputs": [],
   "source": [
    "filtered_rows = df['Time_Orderd'].isna() & df['Time_Order_picked'].notna()\n",
    "df.loc[filtered_rows, 'Time_Orderd'] = df.loc[filtered_rows, 'Time_Order_picked'] - pd.to_timedelta(median_prep_time, unit='m')"
   ]
  },
  {
   "cell_type": "code",
   "execution_count": null,
   "id": "ff331837",
   "metadata": {},
   "outputs": [],
   "source": [
    "df.isnull().sum()"
   ]
  },
  {
   "cell_type": "code",
   "execution_count": null,
   "id": "27784e5d",
   "metadata": {},
   "outputs": [],
   "source": [
    "# Find every occurrence of the word conditions and replace it with nothing ('').\n",
    "# regex=False ensures that the string 'conditions' is treated literally, not as a regular expression.\n",
    "# Removes any leading or trailing whitespace from each value in the column.\n",
    "df['Weatherconditions'] = df['Weatherconditions'].str.replace('conditions','',regex=False).str.strip()"
   ]
  },
  {
   "cell_type": "code",
   "execution_count": null,
   "id": "28615e42",
   "metadata": {},
   "outputs": [],
   "source": [
    "df.describe()"
   ]
  },
  {
   "cell_type": "code",
   "execution_count": null,
   "id": "76201b54",
   "metadata": {},
   "outputs": [],
   "source": [
    "df.info()"
   ]
  },
  {
   "cell_type": "code",
   "execution_count": null,
   "id": "f535636f",
   "metadata": {},
   "outputs": [],
   "source": [
    "#doing the same for time taken column and converting it into numeric type\n",
    "df['Time_taken(min)'] = df['Time_taken(min)'].str.replace('(min)', '', regex=False).str.strip()\n",
    "df['Time_taken(min)'] = pd.to_numeric(df['Time_taken(min)'], errors='coerce')"
   ]
  },
  {
   "cell_type": "code",
   "execution_count": null,
   "id": "855f39ff",
   "metadata": {},
   "outputs": [],
   "source": [
    "#changing the data type of columns to numeric\n",
    "df['Delivery_person_Age'] = pd.to_numeric(df['Delivery_person_Age'], errors='coerce')\n",
    "df['Delivery_person_Ratings'] = pd.to_numeric(df['Delivery_person_Ratings'], errors='coerce')\n",
    "df['multiple_deliveries'] = pd.to_numeric(df['multiple_deliveries'], errors='coerce')"
   ]
  },
  {
   "cell_type": "code",
   "execution_count": null,
   "id": "2096e640",
   "metadata": {},
   "outputs": [],
   "source": [
    "#droping duplicates if any\n",
    "df.drop_duplicates(inplace=True)"
   ]
  },
  {
   "cell_type": "code",
   "execution_count": null,
   "id": "dcbf133a",
   "metadata": {},
   "outputs": [],
   "source": [
    "df"
   ]
  },
  {
   "cell_type": "code",
   "execution_count": null,
   "id": "5fee91e1",
   "metadata": {},
   "outputs": [],
   "source": [
    "# Strip and lower-case categories\n",
    "df['City'] = df['City'].str.strip().str.lower()\n",
    "df['Road_traffic_density'] = df['Road_traffic_density'].str.strip().str.lower()\n",
    "df['Weatherconditions'] = df['Weatherconditions'].str.strip().str.lower()\n",
    "df['Type_of_order'] = df['Type_of_order'].str.strip().str.lower()\n",
    "df['Festival'] = df['Festival'].str.strip().str.lower()"
   ]
  },
  {
   "cell_type": "code",
   "execution_count": null,
   "id": "a5cce6fd",
   "metadata": {},
   "outputs": [],
   "source": [
    "df[['Delivery_person_Age', 'Time_taken(min)']].describe()"
   ]
  },
  {
   "cell_type": "code",
   "execution_count": null,
   "id": "41ee3ce9",
   "metadata": {},
   "outputs": [],
   "source": [
    "df.isna().sum().sort_values(ascending=False)"
   ]
  },
  {
   "cell_type": "code",
   "execution_count": null,
   "id": "13783d33",
   "metadata": {},
   "outputs": [],
   "source": [
    "df['City'].value_counts(), df['Road_traffic_density'].value_counts(), df['Weatherconditions'].value_counts(), df['Type_of_order'].value_counts(), df['Festival'].value_counts()"
   ]
  },
  {
   "cell_type": "code",
   "execution_count": null,
   "id": "c91f9308",
   "metadata": {},
   "outputs": [],
   "source": [
    "df['Type_of_vehicle'].value_counts()"
   ]
  },
  {
   "cell_type": "markdown",
   "id": "0bdba98c",
   "metadata": {},
   "source": [
    "### Came across many fake null values so decided to convert it so that i can deal with them"
   ]
  },
  {
   "cell_type": "code",
   "execution_count": null,
   "id": "9d323603",
   "metadata": {},
   "outputs": [],
   "source": [
    "import numpy as np\n",
    "df.replace(['NaN', 'nan', 'null', 'Null', 'N/A', '', ' ', 'na', 'NA'], np.nan, inplace=True)"
   ]
  },
  {
   "cell_type": "code",
   "execution_count": null,
   "id": "3cad71c6",
   "metadata": {},
   "outputs": [],
   "source": [
    "df.isna().sum().sort_values(ascending=False)"
   ]
  },
  {
   "cell_type": "markdown",
   "id": "cd97118b",
   "metadata": {},
   "source": [
    "Filling delivery person ratings by median citywise"
   ]
  },
  {
   "cell_type": "code",
   "execution_count": null,
   "id": "ed6edae0",
   "metadata": {},
   "outputs": [],
   "source": [
    "# df['Delivery_person_Ratings'] = df.groupby('City')['Delivery_person_Ratings'].transform(\n",
    "#     lambda x: x.fillna(x.median())\n",
    "# )\n",
    "city_median = df.groupby('City')['Delivery_person_Ratings'].transform('median')\n",
    "df['Delivery_person_Ratings'] = df['Delivery_person_Ratings'].fillna(city_median)\n",
    "df['Delivery_person_Ratings'] = df['Delivery_person_Ratings'].fillna(df['Delivery_person_Ratings'].median())"
   ]
  },
  {
   "cell_type": "code",
   "execution_count": null,
   "id": "4f128c40",
   "metadata": {},
   "outputs": [],
   "source": [
    "df['Delivery_person_Ratings'].isna().sum()"
   ]
  },
  {
   "cell_type": "code",
   "execution_count": null,
   "id": "4218fc55",
   "metadata": {},
   "outputs": [],
   "source": [
    "#ensuring there are no outliers\n",
    "df = df[(df['Delivery_person_Ratings'] >= 1.0) & (df['Delivery_person_Ratings'] <= 5.0)]"
   ]
  },
  {
   "cell_type": "code",
   "execution_count": null,
   "id": "88687817",
   "metadata": {},
   "outputs": [],
   "source": [
    "df['Delivery_person_Ratings'].value_counts().sort_index()"
   ]
  },
  {
   "cell_type": "markdown",
   "id": "5cd35dc0",
   "metadata": {},
   "source": [
    "Filling city column with the most frequent city"
   ]
  },
  {
   "cell_type": "code",
   "execution_count": null,
   "id": "81aecdb2",
   "metadata": {},
   "outputs": [],
   "source": [
    "# Fill missing values in 'City' with the most frequent city (mode)\n",
    "city_mode = df['City'].mode()[0]\n",
    "df['City'] = df['City'].fillna(city_mode)\n",
    "df['City'].isna().sum()"
   ]
  },
  {
   "cell_type": "markdown",
   "id": "5da1f1ff",
   "metadata": {},
   "source": [
    "Filling delivery_person_age by the median value of the column grouped by city"
   ]
  },
  {
   "cell_type": "code",
   "execution_count": null,
   "id": "c7df6c18",
   "metadata": {},
   "outputs": [],
   "source": [
    "city_median = df.groupby('City')['Delivery_person_Age'].transform('median')"
   ]
  },
  {
   "cell_type": "code",
   "execution_count": 60,
   "id": "16da69e4",
   "metadata": {},
   "outputs": [],
   "source": [
    "\n",
    "df.loc[:, 'Delivery_person_Age'] = df['Delivery_person_Age'].fillna(city_median)\n",
    "df.loc[:, 'Delivery_person_Age'] = df['Delivery_person_Age'].fillna(df['Delivery_person_Age'].median())"
   ]
  },
  {
   "cell_type": "markdown",
   "id": "1aac1ec0",
   "metadata": {},
   "source": [
    "Filling multiple deliveries by most frequent value i.e mode"
   ]
  },
  {
   "cell_type": "code",
   "execution_count": null,
   "id": "9e29ced7",
   "metadata": {},
   "outputs": [],
   "source": [
    "df['multiple_deliveries'].value_counts()"
   ]
  },
  {
   "cell_type": "code",
   "execution_count": null,
   "id": "e99b7449",
   "metadata": {},
   "outputs": [],
   "source": [
    "df.loc[:,'multiple_deliveries'] = df['multiple_deliveries'].fillna(df['multiple_deliveries'].mode()[0]).astype(int)\n",
    "df['multiple_deliveries'].isna().sum()"
   ]
  },
  {
   "cell_type": "markdown",
   "id": "001f6ef6",
   "metadata": {},
   "source": [
    "Filling Weather conditions by the mode value grouped by city type"
   ]
  },
  {
   "cell_type": "code",
   "execution_count": null,
   "id": "6f17852f",
   "metadata": {},
   "outputs": [],
   "source": [
    "df['Weatherconditions'].value_counts()"
   ]
  },
  {
   "cell_type": "code",
   "execution_count": 66,
   "id": "4d7aafa3",
   "metadata": {},
   "outputs": [],
   "source": [
    "df.loc[:, 'Weatherconditions'] = df.groupby('City')['Weatherconditions'].transform(\n",
    "    lambda x: x.fillna(x.mode()[0] if not x.mode().empty else 'unknown')\n",
    ")"
   ]
  },
  {
   "cell_type": "markdown",
   "id": "69e335c1",
   "metadata": {},
   "source": [
    "Filling Traffic density by the city wise mode value and festival by no "
   ]
  },
  {
   "cell_type": "code",
   "execution_count": 71,
   "id": "9f7fc6cf",
   "metadata": {},
   "outputs": [],
   "source": [
    "df.loc[:,'Road_traffic_density'] = df.groupby('City')['Road_traffic_density'].transform( \n",
    "    lambda x: x.fillna(x.mode()[0] if not x.mode().empty else 'unknown')\n",
    ")\n",
    "df['Festival'].value_counts(dropna=False)\n",
    "df.loc[:,'Festival'] = df['Festival'].fillna('no')"
   ]
  },
  {
   "cell_type": "code",
   "execution_count": null,
   "id": "f32fa2ea",
   "metadata": {},
   "outputs": [
    {
     "data": {
      "text/plain": [
       "ID                             0\n",
       "Delivery_person_ID             0\n",
       "Delivery_person_Age            0\n",
       "Delivery_person_Ratings        0\n",
       "Restaurant_latitude            0\n",
       "Restaurant_longitude           0\n",
       "Delivery_location_latitude     0\n",
       "Delivery_location_longitude    0\n",
       "Order_Date                     0\n",
       "Time_Orderd                    0\n",
       "Time_Order_picked              0\n",
       "Weatherconditions              0\n",
       "Road_traffic_density           0\n",
       "Vehicle_condition              0\n",
       "Type_of_order                  0\n",
       "Type_of_vehicle                0\n",
       "multiple_deliveries            0\n",
       "Festival                       0\n",
       "City                           0\n",
       "Time_taken(min)                0\n",
       "dtype: int64"
      ]
     },
     "execution_count": 72,
     "metadata": {},
     "output_type": "execute_result"
    }
   ],
   "source": [
    "#Checking for any remaining missing values\n",
    "df.isna().sum().sort_values(ascending=False)"
   ]
  },
  {
   "cell_type": "code",
   "execution_count": null,
   "id": "b3b11b5d",
   "metadata": {},
   "outputs": [],
   "source": []
  }
 ],
 "metadata": {
  "kernelspec": {
   "display_name": "base",
   "language": "python",
   "name": "python3"
  },
  "language_info": {
   "codemirror_mode": {
    "name": "ipython",
    "version": 3
   },
   "file_extension": ".py",
   "mimetype": "text/x-python",
   "name": "python",
   "nbconvert_exporter": "python",
   "pygments_lexer": "ipython3",
   "version": "3.12.3"
  }
 },
 "nbformat": 4,
 "nbformat_minor": 5
}
